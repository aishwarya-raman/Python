{
  "cells": [
    {
      "cell_type": "code",
      "execution_count": null,
      "metadata": {
        "trusted": true
      },
      "outputs": [],
      "source": [
        "#1 Add numbers in the list\n",
        "a = [1,2,3,4]\n",
        "sum = 0\n",
        "for i in range(len(a)):\n",
        "    sum += a[i]\n",
        "print(sum)"
      ]
    },
    {
      "cell_type": "code",
      "execution_count": null,
      "metadata": {
        "trusted": true
      },
      "outputs": [
        {
          "name": "stdout",
          "output_type": "stream",
          "text": [
            "44\n"
          ]
        }
      ],
      "source": [
        "#2 Largest number from the list\n",
        "list = [12,3,44,22,12]\n",
        "list.sort()\n",
        "print(list[-1])"
      ]
    },
    {
      "cell_type": "code",
      "execution_count": null,
      "metadata": {
        "trusted": true
      },
      "outputs": [
        {
          "name": "stdout",
          "output_type": "stream",
          "text": [
            "6\n"
          ]
        }
      ],
      "source": [
        "#3 Count of strings \n",
        "lists = ['abba','deed','sees','feef','dsfef','efew','vfefew','1221','3232','4334','1']\n",
        "count = 0\n",
        "for list in lists:\n",
        "    if len(list) > 2 and list[0] == list[-1] :\n",
        "        count = count+1\n",
        "print(count)"
      ]
    },
    {
      "cell_type": "code",
      "execution_count": null,
      "metadata": {
        "trusted": true
      },
      "outputs": [
        {
          "name": "stdout",
          "output_type": "stream",
          "text": [
            "[1, 2, 22, 3, 11, 44, 33]\n"
          ]
        }
      ],
      "source": [
        "#4 remove duplicates\n",
        "lists = [1,1,2,22,3,11,2,22,44,44,33,22,1]\n",
        "newl = []\n",
        "for list in lists : \n",
        "    if list not in newl:\n",
        "        newl.append(list)\n",
        "print(newl)\n",
        "    "
      ]
    },
    {
      "cell_type": "code",
      "execution_count": null,
      "metadata": {
        "trusted": true
      },
      "outputs": [
        {
          "name": "stdout",
          "output_type": "stream",
          "text": [
            "Not empty\n"
          ]
        }
      ],
      "source": [
        "#5 check if list is empty\n",
        "list = [3,2,4,3]\n",
        "if(len(list) !=0):\n",
        "    print(\"Not empty\")\n",
        "else:\n",
        "    print(\"List empty\")"
      ]
    },
    {
      "cell_type": "code",
      "execution_count": null,
      "metadata": {
        "trusted": true
      },
      "outputs": [
        {
          "name": "stdout",
          "output_type": "stream",
          "text": [
            "['dee', 'fff', 'bbb']\n"
          ]
        }
      ],
      "source": [
        "#6 filter for 3 chars\n",
        "\n",
        "list = ['qewerw','efrew','wewf','dfwef','dee','fff','bbb']\n",
        "newl = []\n",
        "for i in list :\n",
        "    if len(i) <= 4:\n",
        "       newl.append(i)\n",
        "print(newl)\n",
        "        \n",
        "        \n",
        "        "
      ]
    },
    {
      "cell_type": "code",
      "execution_count": null,
      "metadata": {
        "trusted": true
      },
      "outputs": [
        {
          "name": "stdout",
          "output_type": "stream",
          "text": [
            "222\n"
          ]
        }
      ],
      "source": [
        "#7 second largest num in list\n",
        "list = [3,433,2,4,1,33,222]\n",
        "list.sort()\n",
        "print(list[-2])"
      ]
    },
    {
      "cell_type": "code",
      "execution_count": null,
      "metadata": {
        "trusted": true
      },
      "outputs": [
        {
          "name": "stdout",
          "output_type": "stream",
          "text": [
            "[44, 33, 44, 212, 334, 22, 234, 43, 33]\n"
          ]
        }
      ],
      "source": [
        "#8 reverse list at a specified position\n",
        "lst = [44,33,44,22,334,212,234,43,33]\n",
        "start = 3\n",
        "end = 5\n",
        "while start < end:\n",
        "        lst[start], lst[end] = lst[end], lst[start]\n",
        "        start += 1\n",
        "        end -= 1\n",
        "print(lst)"
      ]
    },
    {
      "cell_type": "code",
      "execution_count": null,
      "metadata": {
        "trusted": true
      },
      "outputs": [
        {
          "name": "stdout",
          "output_type": "stream",
          "text": [
            "True\n"
          ]
        }
      ],
      "source": [
        "#9 Palindrome\n",
        "lists = ['33','43','33']\n",
        "newl = lists[::-1]\n",
        "if(newl == lists):\n",
        "    print(\"True\")\n",
        "else :\n",
        "    print(\"False\")"
      ]
    },
    {
      "cell_type": "code",
      "execution_count": null,
      "metadata": {},
      "outputs": [
        {
          "name": "stdout",
          "output_type": "stream",
          "text": [
            "{33, 43, 12, 55, 22, 23}\n"
          ]
        }
      ],
      "source": [
        "#10 Union\n",
        "list1 = [12,33,43,22,23]\n",
        "list2 = [43,33,22,55,22]\n",
        "\n",
        "print(set(list1) | set(list2))\n"
      ]
    },
    {
      "cell_type": "code",
      "execution_count": null,
      "metadata": {},
      "outputs": [
        {
          "name": "stdout",
          "output_type": "stream",
          "text": [
            "{33, 43, 22}\n"
          ]
        }
      ],
      "source": [
        "#10 Intersection\n",
        "list1 = [12,33,43,22,23]\n",
        "list2 = [43,33,22,55,22]\n",
        "print(set(list1) & set(list2))"
      ]
    },
    {
      "cell_type": "code",
      "execution_count": null,
      "metadata": {},
      "outputs": [
        {
          "ename": "SyntaxError",
          "evalue": "invalid syntax (1204434387.py, line 2)",
          "output_type": "error",
          "traceback": [
            "\u001b[1;36m  Cell \u001b[1;32mIn[55], line 2\u001b[1;36m\u001b[0m\n\u001b[1;33m    Online compiler\u001b[0m\n\u001b[1;37m           ^\u001b[0m\n\u001b[1;31mSyntaxError\u001b[0m\u001b[1;31m:\u001b[0m invalid syntax\n"
          ]
        }
      ],
      "source": [
        "#11 sort by value\n",
        "d = {'a':1, 'd':3,'s':2,'g':4}\n",
        "res = {}\n",
        "values = sorted(d.values())\n",
        "for i in values :\n",
        "    for k,v in d.items():\n",
        "        if v == i:\n",
        "            res[k] = v\n",
        "print(\"Ascending: \",res)\n",
        "print(\"Descending: \",dict(reversed(list(res.items))))\n",
        "\n"
      ]
    },
    {
      "cell_type": "code",
      "execution_count": null,
      "metadata": {},
      "outputs": [
        {
          "name": "stdout",
          "output_type": "stream",
          "text": [
            "Present,  value = 322\n"
          ]
        }
      ],
      "source": [
        "#12 \n",
        "dic = {'a':33,'b':32,'f':322}\n",
        "key = 'f'\n",
        "if key in dic.keys():\n",
        "        print(\"Present, \", end =\" \")\n",
        "        print(\"value =\", dic[key])\n",
        "else:\n",
        "        print(\"Not present\")\n",
        "         "
      ]
    },
    {
      "cell_type": "code",
      "execution_count": null,
      "metadata": {},
      "outputs": [
        {
          "name": "stdout",
          "output_type": "stream",
          "text": [
            "387\n"
          ]
        }
      ],
      "source": [
        "#13\n",
        "dic = {'a':33,'b':32,'f':322}\n",
        "values = list(dic.values())\n",
        "print(sum(values))\n"
      ]
    },
    {
      "cell_type": "code",
      "execution_count": 58,
      "metadata": {},
      "outputs": [],
      "source": [
        "#14 \n",
        "n=int(input(\"Input a number less than 10 \"))\n",
        "d = dict()\n",
        "\n",
        "for x in range(1,n+1):\n",
        "    d[x]=x*x\n",
        "\n",
        "print(d) "
      ]
    },
    {
      "cell_type": "code",
      "execution_count": null,
      "metadata": {},
      "outputs": [
        {
          "name": "stdout",
          "output_type": "stream",
          "text": [
            "{'a': 1, 'd': 3, 'g': 4, 's': 2}\n"
          ]
        }
      ],
      "source": [
        "#15 sort dictionary by key\n",
        "dict = {'a':1, 'd':3,'s':2,'g':4}\n",
        "keys = list(dict.keys())\n",
        "keys.sort()\n",
        "sorted_d = {i : dict[i] for i in keys}\n",
        "\n",
        "print(sorted_d)"
      ]
    },
    {
      "cell_type": "code",
      "execution_count": null,
      "metadata": {},
      "outputs": [],
      "source": [
        "#16 \n",
        "s = \"Hello Welcome\"\n",
        "dic = {}\n",
        "for i in s :\n",
        "    dic[i] = dic.get(i,0)+1\n",
        "print(dic)\n"
      ]
    },
    {
      "cell_type": "code",
      "execution_count": null,
      "metadata": {},
      "outputs": [],
      "source": [
        "#17 \n",
        "\n",
        "from heapq import nlargest\n",
        "from operator import itemgetter\n",
        "items = {'item1': 45.50, 'item2':35, 'item3': 41.30, 'item4':55, 'item5': 24}\n",
        "for name, value in nlargest(3, items.items(), key=itemgetter(1)):\n",
        "    print(name, value)"
      ]
    },
    {
      "cell_type": "code",
      "execution_count": null,
      "metadata": {},
      "outputs": [],
      "source": []
    }
  ],
  "metadata": {
    "kernelspec": {
      "display_name": "Python 3",
      "language": "python",
      "name": "python3"
    },
    "language_info": {
      "codemirror_mode": {
        "name": "ipython",
        "version": 3
      },
      "file_extension": ".py",
      "mimetype": "text/x-python",
      "name": "python",
      "nbconvert_exporter": "python",
      "pygments_lexer": "ipython3",
      "version": "3.11.2"
    }
  },
  "nbformat": 4,
  "nbformat_minor": 4
}
